{
 "cells": [
  {
   "cell_type": "code",
   "execution_count": 1,
   "metadata": {},
   "outputs": [
    {
     "name": "stdout",
     "output_type": "stream",
     "text": [
      "Sorted Strings: ['darwin', 'praveen', 'tinku']\n"
     ]
    }
   ],
   "source": [
    "def basic_sort(strings):\n",
    "    return sorted(strings)\n",
    "\n",
    "strings = input(\"Enter a list of strings (comma-separated): \").split(',')\n",
    "sorted_strings = basic_sort(strings)\n",
    "print(\"Sorted Strings:\", sorted_strings)"
   ]
  }
 ],
 "metadata": {
  "kernelspec": {
   "display_name": "Python 3",
   "language": "python",
   "name": "python3"
  },
  "language_info": {
   "codemirror_mode": {
    "name": "ipython",
    "version": 3
   },
   "file_extension": ".py",
   "mimetype": "text/x-python",
   "name": "python",
   "nbconvert_exporter": "python",
   "pygments_lexer": "ipython3",
   "version": "3.11.4"
  }
 },
 "nbformat": 4,
 "nbformat_minor": 2
}
